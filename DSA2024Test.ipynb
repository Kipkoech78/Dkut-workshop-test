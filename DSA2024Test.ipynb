{
 "cells": [
  {
   "cell_type": "code",
   "execution_count": 1,
   "metadata": {
    "deletable": false,
    "editable": false
   },
   "outputs": [],
   "source": [
    "# Initialize Otter\n",
    "import otter\n",
    "grader = otter.Notebook(\"DSA2024Test.ipynb\")"
   ]
  },
  {
   "cell_type": "markdown",
   "metadata": {
    "id": "B1DroRwx3ENZ"
   },
   "source": [
    "## DSA 2024 Summer School Admittance Check\n",
    "\n",
    "Thanks for your interest in attending DSA 2024 Nyeri, Kenya. To attend the summer school you have to have some level of basic Python proficiency. Completing the following notebook should ensure you have the right kind of background to benefit maximally from the Summer School. See you in Nyeri!"
   ]
  },
  {
   "cell_type": "code",
   "execution_count": 2,
   "metadata": {
    "id": "7Upwjh9U3ENa"
   },
   "outputs": [],
   "source": [
    "import pandas as pd\n",
    "import numpy as np\n",
    "%matplotlib inline\n",
    "import otter\n",
    "\n",
    "grader = otter.Notebook()"
   ]
  },
  {
   "cell_type": "markdown",
   "metadata": {
    "deletable": false,
    "editable": false,
    "id": "6ibmmx8r3ENc"
   },
   "source": [
    "**Question 1:** write a function `isValid(s)` that takes as argument a string s containing a sequence of parenthesis '(', ')', '{', '}', '[' and ']', and  determines if the input is valid. A input string is valid if for every open parenthensis there is a close one and parenthesis is well-formed. e.g  \"(){}[]\" is valid."
   ]
  },
  {
   "cell_type": "code",
   "execution_count": 3,
   "metadata": {
    "id": "CWjGPqaO3ENc",
    "tags": []
   },
   "outputs": [
    {
     "name": "stdout",
     "output_type": "stream",
     "text": [
      "True\n",
      "True\n",
      "False\n",
      "False\n",
      "True\n"
     ]
    }
   ],
   "source": [
    "# def isValid(s: str) -> bool:\n",
    "def isValid(s: str) -> bool:\n",
    "    stack = []\n",
    "    mapping = {')': '(', '}': '{', ']': '['}\n",
    "\n",
    "    for character in s:\n",
    "        if character in mapping.values():\n",
    "            stack.append(character)\n",
    "        elif character in mapping.keys():\n",
    "            if not stack or mapping[character] != stack.pop():\n",
    "                return False\n",
    "        else:\n",
    "            # Ignore non-parenthesis characters\n",
    "            continue\n",
    "\n",
    "    return len(stack) == 0\n",
    "\n",
    "# Test cases\n",
    "print(isValid(\"(){}[]\"))  # True\n",
    "print(isValid(\"([{}])\"))  # True\n",
    "print(isValid(\"(]\"))      # False\n",
    "print(isValid(\"([)]\"))    # False\n",
    "print(isValid(\"{[]}\"))    # True\n"
   ]
  },
  {
   "cell_type": "code",
   "execution_count": 4,
   "metadata": {
    "deletable": false,
    "editable": false
   },
   "outputs": [
    {
     "data": {
      "text/html": [
       "<p><strong><pre style='display: inline;'>q1</pre></strong> passed! 🍀</p>"
      ],
      "text/plain": [
       "q1 results: All test cases passed!"
      ]
     },
     "execution_count": 4,
     "metadata": {},
     "output_type": "execute_result"
    }
   ],
   "source": [
    "grader.check(\"q1\")"
   ]
  },
  {
   "cell_type": "markdown",
   "metadata": {
    "deletable": false,
    "editable": false,
    "id": "ntYqVxEQ3ENd"
   },
   "source": [
    "**Question 2:** Given a paragraph as a string, write a function that return the number of character with odd frequencies. E.g The paragraph ``DSA 2024 Nyeri`` has *10* characters with odd frequencies. i.e the entire frequency count is given as {' ': 2, '2': 2, 'D': 1, 'S': 1, 'A': 1, '0': 1, '4': 1, 'N': 1, 'y': 1, 'e': 1, 'r': 1, 'i': 1}) and there are *10* characters with odd frequences. So the function should return *10*. "
   ]
  },
  {
   "cell_type": "code",
   "execution_count": 5,
   "metadata": {
    "id": "LlZ8GC4J3ENe",
    "tags": []
   },
   "outputs": [
    {
     "name": "stdout",
     "output_type": "stream",
     "text": [
      "The paragraph 'DSA 2024 Nyeri' has 10 characters with odd frequencies.\n"
     ]
    }
   ],
   "source": [
    "def oddFrequencyCounter(theParagraph: str) -> int:\n",
    "    # Dictionary to store the frequency of each character\n",
    "    frequency_count = {}\n",
    "    \n",
    "    # Count the frequency of each character\n",
    "    for char in theParagraph:\n",
    "        frequency_count[char] = frequency_count.get(char, 0) + 1\n",
    "    \n",
    "    # Count the number of characters with odd frequencies\n",
    "    odd_frequency_count = sum(1 for count in frequency_count.values() if count % 2 != 0)\n",
    "    \n",
    "    return odd_frequency_count\n",
    "\n",
    "# Example usage\n",
    "paragraph = \"DSA 2024 Nyeri\"\n",
    "result = oddFrequencyCounter(paragraph)\n",
    "print(f\"The paragraph '{paragraph}' has {result} characters with odd frequencies.\")\n",
    "\n",
    "                         \n",
    "#     ..."
   ]
  },
  {
   "cell_type": "code",
   "execution_count": 6,
   "metadata": {
    "deletable": false,
    "editable": false
   },
   "outputs": [
    {
     "data": {
      "text/html": [
       "<p><strong><pre style='display: inline;'>q2</pre></strong> passed! 🚀</p>"
      ],
      "text/plain": [
       "q2 results: All test cases passed!"
      ]
     },
     "execution_count": 6,
     "metadata": {},
     "output_type": "execute_result"
    }
   ],
   "source": [
    "grader.check(\"q2\")"
   ]
  },
  {
   "cell_type": "markdown",
   "metadata": {
    "deletable": false,
    "editable": false
   },
   "source": [
    "**Question 3:** Write an infinite generator function `odd_squares_sum` that yields the sum of square of odd numbers. e.g $1^2 + 3^2 + 5^2 + ...$ up to a ``limit``"
   ]
  },
  {
   "cell_type": "code",
   "execution_count": 42,
   "metadata": {
    "id": "I50ccd1SJMn4",
    "tags": []
   },
   "outputs": [
    {
     "name": "stdout",
     "output_type": "stream",
     "text": [
      "35\n"
     ]
    }
   ],
   "source": [
    "def odd_squares_sum(limit):\n",
    "    \n",
    "    \"\"\"\n",
    "    Generator function that yields the sum of squares of odd numbers up to a limit.\n",
    "\n",
    "    Args:\n",
    "        limit: The upper limit for the sum.\n",
    "\n",
    "    Returns:\n",
    "        The final sum of squares of odd numbers up to the limit.\n",
    "    \"\"\"\n",
    "\n",
    "    sum_value = 0\n",
    "    n = 1\n",
    "\n",
    "    while sum_value < limit:\n",
    "        sum_value += n ** 2\n",
    "        n += 2\n",
    "\n",
    "    return sum_value\n",
    "\n",
    "final_sum = odd_squares_sum(20)\n",
    "print(final_sum)"
   ]
  },
  {
   "cell_type": "code",
   "execution_count": 40,
   "metadata": {
    "deletable": false,
    "editable": false
   },
   "outputs": [
    {
     "data": {
      "text/html": [
       "<p><strong style='color: red;'><pre style='display: inline;'>q3</pre> results:</strong></p><p><strong><pre style='display: inline;'>q3 - 1</pre> result:</strong></p><pre>    ❌ Test case failed\n",
       "    Trying:\n",
       "        points: 4\n",
       "    Expecting nothing\n",
       "    ok\n",
       "    Trying:\n",
       "        theGen = odd_squares_sum(12)\n",
       "    Expecting nothing\n",
       "    ok\n",
       "    Trying:\n",
       "        assert next(theGen) == 1\n",
       "    Expecting nothing\n",
       "    **********************************************************************\n",
       "    Line 3, in q3 0\n",
       "    Failed example:\n",
       "        assert next(theGen) == 1\n",
       "    Exception raised:\n",
       "        Traceback (most recent call last):\n",
       "          File \"/home/kipkoech/anaconda3/lib/python3.11/doctest.py\", line 1351, in __run\n",
       "            exec(compile(example.source, filename, \"single\",\n",
       "          File \"<doctest q3 0[2]>\", line 1, in <module>\n",
       "            assert next(theGen) == 1\n",
       "                   ^^^^^^^^^^^^\n",
       "        TypeError: 'int' object is not an iterator\n",
       "    Trying:\n",
       "        assert next(theGen) == 9\n",
       "    Expecting nothing\n",
       "    **********************************************************************\n",
       "    Line 4, in q3 0\n",
       "    Failed example:\n",
       "        assert next(theGen) == 9\n",
       "    Exception raised:\n",
       "        Traceback (most recent call last):\n",
       "          File \"/home/kipkoech/anaconda3/lib/python3.11/doctest.py\", line 1351, in __run\n",
       "            exec(compile(example.source, filename, \"single\",\n",
       "          File \"<doctest q3 0[3]>\", line 1, in <module>\n",
       "            assert next(theGen) == 9\n",
       "                   ^^^^^^^^^^^^\n",
       "        TypeError: 'int' object is not an iterator\n",
       "    Trying:\n",
       "        assert next(theGen) == 25\n",
       "    Expecting nothing\n",
       "    **********************************************************************\n",
       "    Line 5, in q3 0\n",
       "    Failed example:\n",
       "        assert next(theGen) == 25\n",
       "    Exception raised:\n",
       "        Traceback (most recent call last):\n",
       "          File \"/home/kipkoech/anaconda3/lib/python3.11/doctest.py\", line 1351, in __run\n",
       "            exec(compile(example.source, filename, \"single\",\n",
       "          File \"<doctest q3 0[4]>\", line 1, in <module>\n",
       "            assert next(theGen) == 25\n",
       "                   ^^^^^^^^^^^^\n",
       "        TypeError: 'int' object is not an iterator\n",
       "    Trying:\n",
       "        assert next(theGen) == 49\n",
       "    Expecting nothing\n",
       "    **********************************************************************\n",
       "    Line 6, in q3 0\n",
       "    Failed example:\n",
       "        assert next(theGen) == 49\n",
       "    Exception raised:\n",
       "        Traceback (most recent call last):\n",
       "          File \"/home/kipkoech/anaconda3/lib/python3.11/doctest.py\", line 1351, in __run\n",
       "            exec(compile(example.source, filename, \"single\",\n",
       "          File \"<doctest q3 0[5]>\", line 1, in <module>\n",
       "            assert next(theGen) == 49\n",
       "                   ^^^^^^^^^^^^\n",
       "        TypeError: 'int' object is not an iterator\n",
       "    Trying:\n",
       "        assert next(theGen) == 81\n",
       "    Expecting nothing\n",
       "    **********************************************************************\n",
       "    Line 7, in q3 0\n",
       "    Failed example:\n",
       "        assert next(theGen) == 81\n",
       "    Exception raised:\n",
       "        Traceback (most recent call last):\n",
       "          File \"/home/kipkoech/anaconda3/lib/python3.11/doctest.py\", line 1351, in __run\n",
       "            exec(compile(example.source, filename, \"single\",\n",
       "          File \"<doctest q3 0[6]>\", line 1, in <module>\n",
       "            assert next(theGen) == 81\n",
       "                   ^^^^^^^^^^^^\n",
       "        TypeError: 'int' object is not an iterator\n",
       "    Trying:\n",
       "        assert next(theGen) == 121\n",
       "    Expecting nothing\n",
       "    **********************************************************************\n",
       "    Line 8, in q3 0\n",
       "    Failed example:\n",
       "        assert next(theGen) == 121\n",
       "    Exception raised:\n",
       "        Traceback (most recent call last):\n",
       "          File \"/home/kipkoech/anaconda3/lib/python3.11/doctest.py\", line 1351, in __run\n",
       "            exec(compile(example.source, filename, \"single\",\n",
       "          File \"<doctest q3 0[7]>\", line 1, in <module>\n",
       "            assert next(theGen) == 121\n",
       "                   ^^^^^^^^^^^^\n",
       "        TypeError: 'int' object is not an iterator\n",
       "    Trying:\n",
       "        del theGen\n",
       "    Expecting nothing\n",
       "    ok\n",
       "</pre>"
      ],
      "text/plain": [
       "q3 results:\n",
       "    q3 - 1 result:\n",
       "        ❌ Test case failed\n",
       "        Trying:\n",
       "            points: 4\n",
       "        Expecting nothing\n",
       "        ok\n",
       "        Trying:\n",
       "            theGen = odd_squares_sum(12)\n",
       "        Expecting nothing\n",
       "        ok\n",
       "        Trying:\n",
       "            assert next(theGen) == 1\n",
       "        Expecting nothing\n",
       "        **********************************************************************\n",
       "        Line 3, in q3 0\n",
       "        Failed example:\n",
       "            assert next(theGen) == 1\n",
       "        Exception raised:\n",
       "            Traceback (most recent call last):\n",
       "              File \"/home/kipkoech/anaconda3/lib/python3.11/doctest.py\", line 1351, in __run\n",
       "                exec(compile(example.source, filename, \"single\",\n",
       "              File \"<doctest q3 0[2]>\", line 1, in <module>\n",
       "                assert next(theGen) == 1\n",
       "                       ^^^^^^^^^^^^\n",
       "            TypeError: 'int' object is not an iterator\n",
       "        Trying:\n",
       "            assert next(theGen) == 9\n",
       "        Expecting nothing\n",
       "        **********************************************************************\n",
       "        Line 4, in q3 0\n",
       "        Failed example:\n",
       "            assert next(theGen) == 9\n",
       "        Exception raised:\n",
       "            Traceback (most recent call last):\n",
       "              File \"/home/kipkoech/anaconda3/lib/python3.11/doctest.py\", line 1351, in __run\n",
       "                exec(compile(example.source, filename, \"single\",\n",
       "              File \"<doctest q3 0[3]>\", line 1, in <module>\n",
       "                assert next(theGen) == 9\n",
       "                       ^^^^^^^^^^^^\n",
       "            TypeError: 'int' object is not an iterator\n",
       "        Trying:\n",
       "            assert next(theGen) == 25\n",
       "        Expecting nothing\n",
       "        **********************************************************************\n",
       "        Line 5, in q3 0\n",
       "        Failed example:\n",
       "            assert next(theGen) == 25\n",
       "        Exception raised:\n",
       "            Traceback (most recent call last):\n",
       "              File \"/home/kipkoech/anaconda3/lib/python3.11/doctest.py\", line 1351, in __run\n",
       "                exec(compile(example.source, filename, \"single\",\n",
       "              File \"<doctest q3 0[4]>\", line 1, in <module>\n",
       "                assert next(theGen) == 25\n",
       "                       ^^^^^^^^^^^^\n",
       "            TypeError: 'int' object is not an iterator\n",
       "        Trying:\n",
       "            assert next(theGen) == 49\n",
       "        Expecting nothing\n",
       "        **********************************************************************\n",
       "        Line 6, in q3 0\n",
       "        Failed example:\n",
       "            assert next(theGen) == 49\n",
       "        Exception raised:\n",
       "            Traceback (most recent call last):\n",
       "              File \"/home/kipkoech/anaconda3/lib/python3.11/doctest.py\", line 1351, in __run\n",
       "                exec(compile(example.source, filename, \"single\",\n",
       "              File \"<doctest q3 0[5]>\", line 1, in <module>\n",
       "                assert next(theGen) == 49\n",
       "                       ^^^^^^^^^^^^\n",
       "            TypeError: 'int' object is not an iterator\n",
       "        Trying:\n",
       "            assert next(theGen) == 81\n",
       "        Expecting nothing\n",
       "        **********************************************************************\n",
       "        Line 7, in q3 0\n",
       "        Failed example:\n",
       "            assert next(theGen) == 81\n",
       "        Exception raised:\n",
       "            Traceback (most recent call last):\n",
       "              File \"/home/kipkoech/anaconda3/lib/python3.11/doctest.py\", line 1351, in __run\n",
       "                exec(compile(example.source, filename, \"single\",\n",
       "              File \"<doctest q3 0[6]>\", line 1, in <module>\n",
       "                assert next(theGen) == 81\n",
       "                       ^^^^^^^^^^^^\n",
       "            TypeError: 'int' object is not an iterator\n",
       "        Trying:\n",
       "            assert next(theGen) == 121\n",
       "        Expecting nothing\n",
       "        **********************************************************************\n",
       "        Line 8, in q3 0\n",
       "        Failed example:\n",
       "            assert next(theGen) == 121\n",
       "        Exception raised:\n",
       "            Traceback (most recent call last):\n",
       "              File \"/home/kipkoech/anaconda3/lib/python3.11/doctest.py\", line 1351, in __run\n",
       "                exec(compile(example.source, filename, \"single\",\n",
       "              File \"<doctest q3 0[7]>\", line 1, in <module>\n",
       "                assert next(theGen) == 121\n",
       "                       ^^^^^^^^^^^^\n",
       "            TypeError: 'int' object is not an iterator\n",
       "        Trying:\n",
       "            del theGen\n",
       "        Expecting nothing\n",
       "        ok"
      ]
     },
     "execution_count": 40,
     "metadata": {},
     "output_type": "execute_result"
    }
   ],
   "source": [
    "grader.check(\"q3\")"
   ]
  },
  {
   "cell_type": "markdown",
   "metadata": {
    "deletable": false,
    "editable": false,
    "id": "hucvAvprJMn5"
   },
   "source": [
    "**Question 4:** Using the `odd_squares_sum` generator defined above, create a list of sum of squares up to a limit of $20$ and store the results in a numpy.array variable called `oddSumList` "
   ]
  },
  {
   "cell_type": "code",
   "execution_count": 33,
   "metadata": {
    "id": "wLHoBNERJMn5",
    "tags": []
   },
   "outputs": [
    {
     "ename": "TypeError",
     "evalue": "'int' object is not iterable",
     "output_type": "error",
     "traceback": [
      "\u001b[0;31m---------------------------------------------------------------------------\u001b[0m",
      "\u001b[0;31mTypeError\u001b[0m                                 Traceback (most recent call last)",
      "Cell \u001b[0;32mIn[33], line 1\u001b[0m\n\u001b[0;32m----> 1\u001b[0m \u001b[38;5;28;01mfor\u001b[39;00m x \u001b[38;5;129;01min\u001b[39;00m myvalue:\n\u001b[1;32m      2\u001b[0m     mylist\u001b[38;5;241m=\u001b[39m [ mylist\u001b[38;5;241m.\u001b[39mappend(x)]\n\u001b[1;32m      3\u001b[0m     mylist\n",
      "\u001b[0;31mTypeError\u001b[0m: 'int' object is not iterable"
     ]
    }
   ],
   "source": [
    "for x in myvalue:\n",
    "    mylist= [ mylist.append(x)]\n",
    "    mylist"
   ]
  },
  {
   "cell_type": "code",
   "execution_count": null,
   "metadata": {
    "deletable": false,
    "editable": false
   },
   "outputs": [],
   "source": [
    "grader.check(\"q4\")"
   ]
  },
  {
   "cell_type": "markdown",
   "metadata": {
    "deletable": false,
    "editable": false,
    "id": "9PpnMsGpJMn5"
   },
   "source": [
    "**Question 5:** Compute the element-wise remainder of ``oddSumList`` when divided by $5$ and merge it with ``oddSumList``. The final output stored in the variable `mergedList` should be in the form of a list of tupples e.g ``[(1,1), (4,9), (0,25), ...]`` "
   ]
  },
  {
   "cell_type": "code",
   "execution_count": 137,
   "metadata": {
    "id": "UDWWh3vQJMn5",
    "tags": []
   },
   "outputs": [],
   "source": [
    "import numpy as np\n",
    "\n",
    "# Create the list of odd numbers\n",
    "odd_numbers = np.arange(1, 100, 2)\n",
    "\n",
    "# Calculate the sum of odd numbers up to and including the last element\n",
    "odd_sum_list = np.cumsum(odd_numbers)\n",
    "\n",
    "# Calculate the element-wise remainder when divided by 5\n",
    "remainders = odd_sum_list % 5\n",
    "\n",
    "# Merge the odd sum list and remainders into a list of tuples\n",
    "merged_list = list(zip(odd_sum_list, remainders))\n",
    "\n",
    "# Print the merged list"
   ]
  },
  {
   "cell_type": "code",
   "execution_count": 138,
   "metadata": {
    "deletable": false,
    "editable": false
   },
   "outputs": [
    {
     "data": {
      "text/html": [
       "<p><strong style='color: red;'><pre style='display: inline;'>q5</pre> results:</strong></p><p><strong><pre style='display: inline;'>q5 - 1</pre> result:</strong></p><pre>    ❌ Test case failed\n",
       "    Trying:\n",
       "        points: 2\n",
       "    Expecting nothing\n",
       "    ok\n",
       "    Trying:\n",
       "        assert mergedList == [(1, 1), (4, 9), (0, 25), (4, 49), (1, 81), (1, 121), (4, 169), (0, 225), (4, 289), (1, 361)]\n",
       "    Expecting nothing\n",
       "    **********************************************************************\n",
       "    Line 2, in q5 0\n",
       "    Failed example:\n",
       "        assert mergedList == [(1, 1), (4, 9), (0, 25), (4, 49), (1, 81), (1, 121), (4, 169), (0, 225), (4, 289), (1, 361)]\n",
       "    Exception raised:\n",
       "        Traceback (most recent call last):\n",
       "          File \"/home/kipkoech/anaconda3/lib/python3.11/doctest.py\", line 1351, in __run\n",
       "            exec(compile(example.source, filename, \"single\",\n",
       "          File \"<doctest q5 0[1]>\", line 1, in <module>\n",
       "            assert mergedList == [(1, 1), (4, 9), (0, 25), (4, 49), (1, 81), (1, 121), (4, 169), (0, 225), (4, 289), (1, 361)]\n",
       "                   ^^^^^^^^^^\n",
       "        NameError: name 'mergedList' is not defined\n",
       "</pre>"
      ],
      "text/plain": [
       "q5 results:\n",
       "    q5 - 1 result:\n",
       "        ❌ Test case failed\n",
       "        Trying:\n",
       "            points: 2\n",
       "        Expecting nothing\n",
       "        ok\n",
       "        Trying:\n",
       "            assert mergedList == [(1, 1), (4, 9), (0, 25), (4, 49), (1, 81), (1, 121), (4, 169), (0, 225), (4, 289), (1, 361)]\n",
       "        Expecting nothing\n",
       "        **********************************************************************\n",
       "        Line 2, in q5 0\n",
       "        Failed example:\n",
       "            assert mergedList == [(1, 1), (4, 9), (0, 25), (4, 49), (1, 81), (1, 121), (4, 169), (0, 225), (4, 289), (1, 361)]\n",
       "        Exception raised:\n",
       "            Traceback (most recent call last):\n",
       "              File \"/home/kipkoech/anaconda3/lib/python3.11/doctest.py\", line 1351, in __run\n",
       "                exec(compile(example.source, filename, \"single\",\n",
       "              File \"<doctest q5 0[1]>\", line 1, in <module>\n",
       "                assert mergedList == [(1, 1), (4, 9), (0, 25), (4, 49), (1, 81), (1, 121), (4, 169), (0, 225), (4, 289), (1, 361)]\n",
       "                       ^^^^^^^^^^\n",
       "            NameError: name 'mergedList' is not defined"
      ]
     },
     "execution_count": 138,
     "metadata": {},
     "output_type": "execute_result"
    }
   ],
   "source": [
    "grader.check(\"q5\")"
   ]
  },
  {
   "cell_type": "markdown",
   "metadata": {
    "deletable": false,
    "editable": false
   },
   "source": [
    "**Question 6:**  Write a function `greatest_common_divisor` that takes two inputs `a` and `b` and returns the greatest common divisor of the two numbers. E.g. input `(10, 15)` would return `5`"
   ]
  },
  {
   "cell_type": "code",
   "execution_count": 53,
   "metadata": {
    "tags": []
   },
   "outputs": [
    {
     "name": "stdout",
     "output_type": "stream",
     "text": [
      "5\n"
     ]
    }
   ],
   "source": [
    "def greatest_common_divisor(a, b):\n",
    "    a= abs(a)\n",
    "    b= abs(b)\n",
    "    while b!=0:\n",
    "        a, b = b, a % b\n",
    "    return a\n",
    "print(greatest_common_divisor(10,15))"
   ]
  },
  {
   "cell_type": "code",
   "execution_count": 54,
   "metadata": {
    "deletable": false,
    "editable": false
   },
   "outputs": [
    {
     "data": {
      "text/html": [
       "<p><strong><pre style='display: inline;'>q6</pre></strong> passed! 🎉</p>"
      ],
      "text/plain": [
       "q6 results: All test cases passed!"
      ]
     },
     "execution_count": 54,
     "metadata": {},
     "output_type": "execute_result"
    }
   ],
   "source": [
    "grader.check(\"q6\")"
   ]
  },
  {
   "cell_type": "markdown",
   "metadata": {
    "deletable": false,
    "editable": false
   },
   "source": [
    "**Question 7:**  Write a function `get_3_nearest` that takes in a point of interest ``pt`` and a **list** of points ``ptlist``  and returns a list of 3 nearest points from the point of interest ``pt``. Assume the distance between any two point is defined by the `L1-norm`."
   ]
  },
  {
   "cell_type": "code",
   "execution_count": 62,
   "metadata": {
    "tags": []
   },
   "outputs": [
    {
     "name": "stdout",
     "output_type": "stream",
     "text": [
      "3 nearest points to [1 2]: [array([3, 4]), array([5, 6]), array([7, 8])]\n"
     ]
    }
   ],
   "source": [
    "\n",
    "def get_3_nearest(pt, ptlist):\n",
    "  \"\"\"\n",
    "  This function finds the 3 nearest points in a list of points to a given point of interest.\n",
    "\n",
    "  Args:\n",
    "    pt: The point of interest.\n",
    "    ptlist: A list of points.\n",
    "\n",
    "  Returns:\n",
    "    A list of the 3 nearest points in ptlist to pt.\n",
    "  \"\"\"\n",
    "\n",
    "  # Ensure all points have the same dimensionality\n",
    "  if len(pt) != len(ptlist[0]):\n",
    "    raise ValueError(\"All points must have the same dimensionality\")\n",
    "\n",
    "  # Calculate the distances between the point of interest and all other points\n",
    "  distances = [L1_norm(pt, p) for p in ptlist]\n",
    "\n",
    "  # Sort the distances and select the indices of the 3 smallest distances\n",
    "  nearest_indices = np.argsort(distances)[:3]\n",
    "\n",
    "  # Return the 3 nearest points using the indices\n",
    "  return [ptlist[i] for i in nearest_indices]\n",
    "\n",
    "# Define the L1-norm function\n",
    "def L1_norm(pt1, pt2):\n",
    "    return np.sum(np.abs(pt1 - pt2))\n",
    "\n",
    "pt = np.array([1, 2])\n",
    "ptlist = [np.array([3, 4]), np.array([5, 6]), np.array([7, 8]), np.array([9, 10])]\n",
    "\n",
    "nearest_points = get_3_nearest(pt, ptlist)\n",
    "\n",
    "print(f\"3 nearest points to {pt}: {nearest_points}\")\n",
    "    "
   ]
  },
  {
   "cell_type": "code",
   "execution_count": 63,
   "metadata": {
    "deletable": false,
    "editable": false
   },
   "outputs": [
    {
     "data": {
      "text/html": [
       "<p><strong style='color: red;'><pre style='display: inline;'>q7</pre> results:</strong></p><p><strong><pre style='display: inline;'>q7 - 1</pre> result:</strong></p><pre>    ❌ Test case failed\n",
       "    Trying:\n",
       "        points: 2\n",
       "    Expecting nothing\n",
       "    ok\n",
       "    Trying:\n",
       "        np.testing.assert_equal(get_3_nearest((3, 8), [(9, 3), (8, 5), (7, 6)]), [(7, 6), (8, 5), (9, 3)])\n",
       "    Expecting nothing\n",
       "    **********************************************************************\n",
       "    Line 2, in q7 0\n",
       "    Failed example:\n",
       "        np.testing.assert_equal(get_3_nearest((3, 8), [(9, 3), (8, 5), (7, 6)]), [(7, 6), (8, 5), (9, 3)])\n",
       "    Exception raised:\n",
       "        Traceback (most recent call last):\n",
       "          File \"/home/kipkoech/anaconda3/lib/python3.11/doctest.py\", line 1351, in __run\n",
       "            exec(compile(example.source, filename, \"single\",\n",
       "          File \"<doctest q7 0[1]>\", line 1, in <module>\n",
       "            np.testing.assert_equal(get_3_nearest((3, 8), [(9, 3), (8, 5), (7, 6)]), [(7, 6), (8, 5), (9, 3)])\n",
       "                                    ^^^^^^^^^^^^^^^^^^^^^^^^^^^^^^^^^^^^^^^^^^^^^^^\n",
       "          File \"/tmp/ipykernel_18459/1070780656.py\", line 18, in get_3_nearest\n",
       "            distances = [L1_norm(pt, p) for p in ptlist]\n",
       "                        ^^^^^^^^^^^^^^^^^^^^^^^^^^^^^^^^\n",
       "          File \"/tmp/ipykernel_18459/1070780656.py\", line 18, in <listcomp>\n",
       "            distances = [L1_norm(pt, p) for p in ptlist]\n",
       "                         ^^^^^^^^^^^^^^\n",
       "          File \"/tmp/ipykernel_18459/1070780656.py\", line 28, in L1_norm\n",
       "            return np.sum(np.abs(pt1 - pt2))\n",
       "                                 ~~~~^~~~~\n",
       "        TypeError: unsupported operand type(s) for -: 'tuple' and 'tuple'\n",
       "</pre><p><strong><pre style='display: inline;'>q7 - 2</pre> result:</strong></p><pre>    ❌ Test case failed\n",
       "    Trying:\n",
       "        points: 2\n",
       "    Expecting nothing\n",
       "    ok\n",
       "    Trying:\n",
       "        np.testing.assert_equal(get_3_nearest((12, 8), [(5, 9), (9, 1), (2, 4), (13, 9), (10, 12)]), [(13, 9), (10, 12), (5, 9)])\n",
       "    Expecting nothing\n",
       "    **********************************************************************\n",
       "    Line 2, in q7 1\n",
       "    Failed example:\n",
       "        np.testing.assert_equal(get_3_nearest((12, 8), [(5, 9), (9, 1), (2, 4), (13, 9), (10, 12)]), [(13, 9), (10, 12), (5, 9)])\n",
       "    Exception raised:\n",
       "        Traceback (most recent call last):\n",
       "          File \"/home/kipkoech/anaconda3/lib/python3.11/doctest.py\", line 1351, in __run\n",
       "            exec(compile(example.source, filename, \"single\",\n",
       "          File \"<doctest q7 1[1]>\", line 1, in <module>\n",
       "            np.testing.assert_equal(get_3_nearest((12, 8), [(5, 9), (9, 1), (2, 4), (13, 9), (10, 12)]), [(13, 9), (10, 12), (5, 9)])\n",
       "                                    ^^^^^^^^^^^^^^^^^^^^^^^^^^^^^^^^^^^^^^^^^^^^^^^^^^^^^^^^^^^^^^^^^^^\n",
       "          File \"/tmp/ipykernel_18459/1070780656.py\", line 18, in get_3_nearest\n",
       "            distances = [L1_norm(pt, p) for p in ptlist]\n",
       "                        ^^^^^^^^^^^^^^^^^^^^^^^^^^^^^^^^\n",
       "          File \"/tmp/ipykernel_18459/1070780656.py\", line 18, in <listcomp>\n",
       "            distances = [L1_norm(pt, p) for p in ptlist]\n",
       "                         ^^^^^^^^^^^^^^\n",
       "          File \"/tmp/ipykernel_18459/1070780656.py\", line 28, in L1_norm\n",
       "            return np.sum(np.abs(pt1 - pt2))\n",
       "                                 ~~~~^~~~~\n",
       "        TypeError: unsupported operand type(s) for -: 'tuple' and 'tuple'\n",
       "</pre><p><strong><pre style='display: inline;'>q7 - 3</pre> result:</strong></p><pre>    ❌ Test case failed\n",
       "    Trying:\n",
       "        points: 2\n",
       "    Expecting nothing\n",
       "    ok\n",
       "    Trying:\n",
       "        np.testing.assert_equal(get_3_nearest((5, 8), [(5, 9), (9, 1), (2, 4), (13, 9), (10, 12)]), [(5, 9), (2, 4), (13, 9)])\n",
       "    Expecting nothing\n",
       "    **********************************************************************\n",
       "    Line 2, in q7 2\n",
       "    Failed example:\n",
       "        np.testing.assert_equal(get_3_nearest((5, 8), [(5, 9), (9, 1), (2, 4), (13, 9), (10, 12)]), [(5, 9), (2, 4), (13, 9)])\n",
       "    Exception raised:\n",
       "        Traceback (most recent call last):\n",
       "          File \"/home/kipkoech/anaconda3/lib/python3.11/doctest.py\", line 1351, in __run\n",
       "            exec(compile(example.source, filename, \"single\",\n",
       "          File \"<doctest q7 2[1]>\", line 1, in <module>\n",
       "            np.testing.assert_equal(get_3_nearest((5, 8), [(5, 9), (9, 1), (2, 4), (13, 9), (10, 12)]), [(5, 9), (2, 4), (13, 9)])\n",
       "                                    ^^^^^^^^^^^^^^^^^^^^^^^^^^^^^^^^^^^^^^^^^^^^^^^^^^^^^^^^^^^^^^^^^^\n",
       "          File \"/tmp/ipykernel_18459/1070780656.py\", line 18, in get_3_nearest\n",
       "            distances = [L1_norm(pt, p) for p in ptlist]\n",
       "                        ^^^^^^^^^^^^^^^^^^^^^^^^^^^^^^^^\n",
       "          File \"/tmp/ipykernel_18459/1070780656.py\", line 18, in <listcomp>\n",
       "            distances = [L1_norm(pt, p) for p in ptlist]\n",
       "                         ^^^^^^^^^^^^^^\n",
       "          File \"/tmp/ipykernel_18459/1070780656.py\", line 28, in L1_norm\n",
       "            return np.sum(np.abs(pt1 - pt2))\n",
       "                                 ~~~~^~~~~\n",
       "        TypeError: unsupported operand type(s) for -: 'tuple' and 'tuple'\n",
       "</pre>"
      ],
      "text/plain": [
       "q7 results:\n",
       "    q7 - 1 result:\n",
       "        ❌ Test case failed\n",
       "        Trying:\n",
       "            points: 2\n",
       "        Expecting nothing\n",
       "        ok\n",
       "        Trying:\n",
       "            np.testing.assert_equal(get_3_nearest((3, 8), [(9, 3), (8, 5), (7, 6)]), [(7, 6), (8, 5), (9, 3)])\n",
       "        Expecting nothing\n",
       "        **********************************************************************\n",
       "        Line 2, in q7 0\n",
       "        Failed example:\n",
       "            np.testing.assert_equal(get_3_nearest((3, 8), [(9, 3), (8, 5), (7, 6)]), [(7, 6), (8, 5), (9, 3)])\n",
       "        Exception raised:\n",
       "            Traceback (most recent call last):\n",
       "              File \"/home/kipkoech/anaconda3/lib/python3.11/doctest.py\", line 1351, in __run\n",
       "                exec(compile(example.source, filename, \"single\",\n",
       "              File \"<doctest q7 0[1]>\", line 1, in <module>\n",
       "                np.testing.assert_equal(get_3_nearest((3, 8), [(9, 3), (8, 5), (7, 6)]), [(7, 6), (8, 5), (9, 3)])\n",
       "                                        ^^^^^^^^^^^^^^^^^^^^^^^^^^^^^^^^^^^^^^^^^^^^^^^\n",
       "              File \"/tmp/ipykernel_18459/1070780656.py\", line 18, in get_3_nearest\n",
       "                distances = [L1_norm(pt, p) for p in ptlist]\n",
       "                            ^^^^^^^^^^^^^^^^^^^^^^^^^^^^^^^^\n",
       "              File \"/tmp/ipykernel_18459/1070780656.py\", line 18, in <listcomp>\n",
       "                distances = [L1_norm(pt, p) for p in ptlist]\n",
       "                             ^^^^^^^^^^^^^^\n",
       "              File \"/tmp/ipykernel_18459/1070780656.py\", line 28, in L1_norm\n",
       "                return np.sum(np.abs(pt1 - pt2))\n",
       "                                     ~~~~^~~~~\n",
       "            TypeError: unsupported operand type(s) for -: 'tuple' and 'tuple'\n",
       "\n",
       "    q7 - 2 result:\n",
       "        ❌ Test case failed\n",
       "        Trying:\n",
       "            points: 2\n",
       "        Expecting nothing\n",
       "        ok\n",
       "        Trying:\n",
       "            np.testing.assert_equal(get_3_nearest((12, 8), [(5, 9), (9, 1), (2, 4), (13, 9), (10, 12)]), [(13, 9), (10, 12), (5, 9)])\n",
       "        Expecting nothing\n",
       "        **********************************************************************\n",
       "        Line 2, in q7 1\n",
       "        Failed example:\n",
       "            np.testing.assert_equal(get_3_nearest((12, 8), [(5, 9), (9, 1), (2, 4), (13, 9), (10, 12)]), [(13, 9), (10, 12), (5, 9)])\n",
       "        Exception raised:\n",
       "            Traceback (most recent call last):\n",
       "              File \"/home/kipkoech/anaconda3/lib/python3.11/doctest.py\", line 1351, in __run\n",
       "                exec(compile(example.source, filename, \"single\",\n",
       "              File \"<doctest q7 1[1]>\", line 1, in <module>\n",
       "                np.testing.assert_equal(get_3_nearest((12, 8), [(5, 9), (9, 1), (2, 4), (13, 9), (10, 12)]), [(13, 9), (10, 12), (5, 9)])\n",
       "                                        ^^^^^^^^^^^^^^^^^^^^^^^^^^^^^^^^^^^^^^^^^^^^^^^^^^^^^^^^^^^^^^^^^^^\n",
       "              File \"/tmp/ipykernel_18459/1070780656.py\", line 18, in get_3_nearest\n",
       "                distances = [L1_norm(pt, p) for p in ptlist]\n",
       "                            ^^^^^^^^^^^^^^^^^^^^^^^^^^^^^^^^\n",
       "              File \"/tmp/ipykernel_18459/1070780656.py\", line 18, in <listcomp>\n",
       "                distances = [L1_norm(pt, p) for p in ptlist]\n",
       "                             ^^^^^^^^^^^^^^\n",
       "              File \"/tmp/ipykernel_18459/1070780656.py\", line 28, in L1_norm\n",
       "                return np.sum(np.abs(pt1 - pt2))\n",
       "                                     ~~~~^~~~~\n",
       "            TypeError: unsupported operand type(s) for -: 'tuple' and 'tuple'\n",
       "\n",
       "    q7 - 3 result:\n",
       "        ❌ Test case failed\n",
       "        Trying:\n",
       "            points: 2\n",
       "        Expecting nothing\n",
       "        ok\n",
       "        Trying:\n",
       "            np.testing.assert_equal(get_3_nearest((5, 8), [(5, 9), (9, 1), (2, 4), (13, 9), (10, 12)]), [(5, 9), (2, 4), (13, 9)])\n",
       "        Expecting nothing\n",
       "        **********************************************************************\n",
       "        Line 2, in q7 2\n",
       "        Failed example:\n",
       "            np.testing.assert_equal(get_3_nearest((5, 8), [(5, 9), (9, 1), (2, 4), (13, 9), (10, 12)]), [(5, 9), (2, 4), (13, 9)])\n",
       "        Exception raised:\n",
       "            Traceback (most recent call last):\n",
       "              File \"/home/kipkoech/anaconda3/lib/python3.11/doctest.py\", line 1351, in __run\n",
       "                exec(compile(example.source, filename, \"single\",\n",
       "              File \"<doctest q7 2[1]>\", line 1, in <module>\n",
       "                np.testing.assert_equal(get_3_nearest((5, 8), [(5, 9), (9, 1), (2, 4), (13, 9), (10, 12)]), [(5, 9), (2, 4), (13, 9)])\n",
       "                                        ^^^^^^^^^^^^^^^^^^^^^^^^^^^^^^^^^^^^^^^^^^^^^^^^^^^^^^^^^^^^^^^^^^\n",
       "              File \"/tmp/ipykernel_18459/1070780656.py\", line 18, in get_3_nearest\n",
       "                distances = [L1_norm(pt, p) for p in ptlist]\n",
       "                            ^^^^^^^^^^^^^^^^^^^^^^^^^^^^^^^^\n",
       "              File \"/tmp/ipykernel_18459/1070780656.py\", line 18, in <listcomp>\n",
       "                distances = [L1_norm(pt, p) for p in ptlist]\n",
       "                             ^^^^^^^^^^^^^^\n",
       "              File \"/tmp/ipykernel_18459/1070780656.py\", line 28, in L1_norm\n",
       "                return np.sum(np.abs(pt1 - pt2))\n",
       "                                     ~~~~^~~~~\n",
       "            TypeError: unsupported operand type(s) for -: 'tuple' and 'tuple'"
      ]
     },
     "execution_count": 63,
     "metadata": {},
     "output_type": "execute_result"
    }
   ],
   "source": [
    "grader.check(\"q7\")"
   ]
  },
  {
   "cell_type": "markdown",
   "metadata": {
    "deletable": false,
    "editable": false
   },
   "source": [
    "**Question 8:**  Write a function `diagonal_vector(M)` that returns a **numpy** array of the list of **absolute** values of the main diagonal entries in the matrix $M$"
   ]
  },
  {
   "cell_type": "code",
   "execution_count": 64,
   "metadata": {
    "tags": []
   },
   "outputs": [
    {
     "name": "stdout",
     "output_type": "stream",
     "text": [
      "Diagonal vector of M: [1 5 9]\n"
     ]
    }
   ],
   "source": [
    "def diagonal_vector(M):\n",
    "  \"\"\"\n",
    "  This function returns a numpy array of the absolute values of the main diagonal entries in the matrix M.\n",
    "\n",
    "  Args:\n",
    "    M: A 2D numpy array representing a matrix.\n",
    "\n",
    "  Returns:\n",
    "    A numpy array containing the absolute values of the main diagonal entries of M.\n",
    "  \"\"\"\n",
    "\n",
    "  # Get the diagonal entries of the matrix\n",
    "  diagonal_entries = np.diagonal(M)\n",
    "\n",
    "  # Calculate the absolute values of the diagonal entries\n",
    "  absolute_values = np.abs(diagonal_entries)\n",
    "\n",
    "  return absolute_values\n",
    "\n",
    "# Example usage\n",
    "M = np.array([[1, 2, 3], [4, 5, 6], [7, 8, 9]])\n",
    "\n",
    "diagonal_vector_M = diagonal_vector(M)\n",
    "\n",
    "print(f\"Diagonal vector of M: {diagonal_vector_M}\")"
   ]
  },
  {
   "cell_type": "code",
   "execution_count": 65,
   "metadata": {
    "deletable": false,
    "editable": false
   },
   "outputs": [
    {
     "data": {
      "text/html": [
       "<p><strong><pre style='display: inline;'>q8</pre></strong> passed! 🍀</p>"
      ],
      "text/plain": [
       "q8 results: All test cases passed!"
      ]
     },
     "execution_count": 65,
     "metadata": {},
     "output_type": "execute_result"
    }
   ],
   "source": [
    "grader.check(\"q8\")"
   ]
  },
  {
   "cell_type": "markdown",
   "metadata": {
    "deletable": false,
    "editable": false
   },
   "source": [
    "**Question 9:**  Write a function `flatten_reverse_lists` that takes in a list of lists and outputs a **reverse** sorted list of elements of sublists of the input list (confusing right?) <br>\n",
    "Example: given `flatten_reverse_lists([[2,13,44], [6,7]])` it should return `[2,6,7,13,44]`"
   ]
  },
  {
   "cell_type": "code",
   "execution_count": 69,
   "metadata": {
    "tags": []
   },
   "outputs": [
    {
     "name": "stdout",
     "output_type": "stream",
     "text": [
      "Flattened reverse list: [44, 13, 7, 6, 3, 3, 2, 2, 1]\n"
     ]
    }
   ],
   "source": [
    "def flatten_reverse_lists(superlist):\n",
    "  \"\"\"\n",
    "  This function takes in a list of lists and outputs a reverse sorted list of elements of sublists of the input list.\n",
    "\n",
    "  Args:\n",
    "      list_of_lists: A list of lists.\n",
    "\n",
    "  Returns:\n",
    "      A reverse sorted list of elements of sublists of the input list.\n",
    "  \"\"\"\n",
    "\n",
    "  # Flatten the list of lists\n",
    "  flattened_list = [item for sublist in superlist for item in sublist]\n",
    "\n",
    "  # Sort the flattened list in reverse order\n",
    "  flattened_list.sort(reverse=True)\n",
    "\n",
    "  return flattened_list\n",
    "\n",
    "# Example usage\n",
    "superlist = [[2, 13, 44], [6, 7, 3 ], [ 1, 2, 3]]\n",
    "\n",
    "flattened_reverse_list = flatten_reverse_lists(superlist)\n",
    "\n",
    "print(f\"Flattened reverse list: {flattened_reverse_list}\")"
   ]
  },
  {
   "cell_type": "code",
   "execution_count": 70,
   "metadata": {
    "deletable": false,
    "editable": false
   },
   "outputs": [
    {
     "data": {
      "text/html": [
       "<p><strong><pre style='display: inline;'>q9</pre></strong> passed! 🙌</p>"
      ],
      "text/plain": [
       "q9 results: All test cases passed!"
      ]
     },
     "execution_count": 70,
     "metadata": {},
     "output_type": "execute_result"
    }
   ],
   "source": [
    "grader.check(\"q9\")"
   ]
  },
  {
   "cell_type": "markdown",
   "metadata": {
    "deletable": false,
    "editable": false
   },
   "source": [
    "**Question 9:** Create a DataFrame mirroring the table below and assign this to `data`. \n",
    "\n",
    "| flavor | scoops | price |\n",
    "|-----|-----|-----|\n",
    "| white chocolate | 1 | 2 |\n",
    "| vanilla | 1 | 1.5 |\n",
    "| dark chocolate | 2 | 3 |\n",
    "| strawberry | 1 | 2 |\n",
    "| strawberry | 3 | 4 |\n",
    "| vanilla | 2 | 2 |\n",
    "| mint | 1 | 4 |\n",
    "| mint | 2 | 5 |\n",
    "| white chocolate | 3 | 2 |\n",
    "| dark chocolate | 3 | 3 |\n",
    "| white chocolate | 2 | 2 |\n",
    "| dark chocolate | 5 | 3 |\n"
   ]
  },
  {
   "cell_type": "code",
   "execution_count": 113,
   "metadata": {
    "tags": []
   },
   "outputs": [
    {
     "data": {
      "text/html": [
       "<div>\n",
       "<style scoped>\n",
       "    .dataframe tbody tr th:only-of-type {\n",
       "        vertical-align: middle;\n",
       "    }\n",
       "\n",
       "    .dataframe tbody tr th {\n",
       "        vertical-align: top;\n",
       "    }\n",
       "\n",
       "    .dataframe thead th {\n",
       "        text-align: right;\n",
       "    }\n",
       "</style>\n",
       "<table border=\"1\" class=\"dataframe\">\n",
       "  <thead>\n",
       "    <tr style=\"text-align: right;\">\n",
       "      <th></th>\n",
       "      <th>flavor</th>\n",
       "      <th>scoops</th>\n",
       "      <th>price</th>\n",
       "    </tr>\n",
       "  </thead>\n",
       "  <tbody>\n",
       "    <tr>\n",
       "      <th>0</th>\n",
       "      <td>white chokolate</td>\n",
       "      <td>1</td>\n",
       "      <td>2.0</td>\n",
       "    </tr>\n",
       "    <tr>\n",
       "      <th>1</th>\n",
       "      <td>vanilla</td>\n",
       "      <td>1</td>\n",
       "      <td>1.5</td>\n",
       "    </tr>\n",
       "    <tr>\n",
       "      <th>2</th>\n",
       "      <td>dark chocolate</td>\n",
       "      <td>2</td>\n",
       "      <td>3.0</td>\n",
       "    </tr>\n",
       "    <tr>\n",
       "      <th>3</th>\n",
       "      <td>strawberry</td>\n",
       "      <td>1</td>\n",
       "      <td>2.0</td>\n",
       "    </tr>\n",
       "    <tr>\n",
       "      <th>4</th>\n",
       "      <td>strawberry</td>\n",
       "      <td>3</td>\n",
       "      <td>4.0</td>\n",
       "    </tr>\n",
       "    <tr>\n",
       "      <th>5</th>\n",
       "      <td>vanila</td>\n",
       "      <td>2</td>\n",
       "      <td>2.0</td>\n",
       "    </tr>\n",
       "    <tr>\n",
       "      <th>6</th>\n",
       "      <td>mint</td>\n",
       "      <td>1</td>\n",
       "      <td>4.0</td>\n",
       "    </tr>\n",
       "    <tr>\n",
       "      <th>7</th>\n",
       "      <td>mint</td>\n",
       "      <td>2</td>\n",
       "      <td>5.0</td>\n",
       "    </tr>\n",
       "    <tr>\n",
       "      <th>8</th>\n",
       "      <td>white chokolate</td>\n",
       "      <td>3</td>\n",
       "      <td>2.0</td>\n",
       "    </tr>\n",
       "    <tr>\n",
       "      <th>9</th>\n",
       "      <td>dark chocolate</td>\n",
       "      <td>3</td>\n",
       "      <td>3.0</td>\n",
       "    </tr>\n",
       "    <tr>\n",
       "      <th>10</th>\n",
       "      <td>white chocolate</td>\n",
       "      <td>2</td>\n",
       "      <td>2.0</td>\n",
       "    </tr>\n",
       "    <tr>\n",
       "      <th>11</th>\n",
       "      <td>dark chocolate</td>\n",
       "      <td>3</td>\n",
       "      <td>5.0</td>\n",
       "    </tr>\n",
       "  </tbody>\n",
       "</table>\n",
       "</div>"
      ],
      "text/plain": [
       "             flavor  scoops  price\n",
       "0   white chokolate       1    2.0\n",
       "1           vanilla       1    1.5\n",
       "2    dark chocolate       2    3.0\n",
       "3       strawberry        1    2.0\n",
       "4        strawberry       3    4.0\n",
       "5            vanila       2    2.0\n",
       "6              mint       1    4.0\n",
       "7              mint       2    5.0\n",
       "8   white chokolate       3    2.0\n",
       "9    dark chocolate       3    3.0\n",
       "10  white chocolate       2    2.0\n",
       "11   dark chocolate       3    5.0"
      ]
     },
     "execution_count": 113,
     "metadata": {},
     "output_type": "execute_result"
    }
   ],
   "source": [
    "import pandas as pd\n",
    "data = [['white chokolate', 1, 2], ['vanilla', 1, 1.5], ['dark chocolate' ,2 ,3],['strawberry ',1,2],['strawberry', 3,4],['vanila',2,2],['mint',1,4],['mint',2,5],['white chokolate', 3,2],['dark chocolate', 3,3],['white chocolate', 2,2],['dark chocolate',3,5]] \n",
    "df = pd.DataFrame(data, columns= ['flavor','scoops', 'price'])\n",
    "df.reset_index(drop=False)\n",
    "# df= pd.DataFrame(data)\n",
    "df\n"
   ]
  },
  {
   "cell_type": "markdown",
   "metadata": {
    "deletable": false,
    "editable": false
   },
   "source": [
    "**Question 10:** Do the following to the dataframe:\n",
    "* Create a new collumn ``total_price`` whose value is equal to $scoops * price$*\n",
    "* Write a function ``groupStatistics(data, groupValue)``. Internally, this function groups ``data``  by ``flavor`` and then returns statistics of a given grouped item ``groupValue`` indexed on the ``total_price`` columns. The statistics is a numpy array contains ``[mean, media, min, max, std]`` of the ``total_price`` column. The ``std`` should be rounded to 2 **decimal places**\n",
    "\n"
   ]
  },
  {
   "cell_type": "code",
   "execution_count": 120,
   "metadata": {
    "tags": []
   },
   "outputs": [
    {
     "name": "stdout",
     "output_type": "stream",
     "text": [
      "[['dark chocolate' 10.0 9.0 6.0 15.0 4.58]\n",
      " ['mint' 7.0 7.0 4.0 10.0 4.24]\n",
      " ['strawberry' 7.0 7.0 2.0 12.0 7.07]\n",
      " ['vanila' 4.0 4.0 4.0 4.0 nan]\n",
      " ['vanilla' 1.5 1.5 1.5 1.5 nan]\n",
      " ['white chocolate' 4.0 4.0 4.0 4.0 nan]\n",
      " ['white chokolate' 4.0 4.0 2.0 6.0 2.83]]\n"
     ]
    }
   ],
   "source": [
    "import pandas as pd\n",
    "import numpy as np\n",
    "\n",
    "def groupStatistics(data, groupValue):\n",
    "\n",
    "  # Group data by flavor\n",
    "    grouped_data = data.groupby(groupValue)\n",
    "\n",
    "  # Calculate statistics for each group\n",
    "    statistics = grouped_data[\"total_price\"].agg([\"mean\", \"median\", \"min\", \"max\", \"std\"]).round(2).reset_index()\n",
    "\n",
    "  # Convert the statistics to a numpy array\n",
    "    statistics_array = statistics.to_numpy()\n",
    "\n",
    "    return statistics_array\n",
    "\n"
   ]
  },
  {
   "cell_type": "code",
   "execution_count": 121,
   "metadata": {
    "deletable": false,
    "editable": false
   },
   "outputs": [
    {
     "data": {
      "text/html": [
       "<p><strong style='color: red;'><pre style='display: inline;'>q11</pre> results:</strong></p><p><strong><pre style='display: inline;'>q11 - 1</pre> result:</strong></p><pre>    ❌ Test case failed\n",
       "    Trying:\n",
       "        points: 1\n",
       "    Expecting nothing\n",
       "    ok\n",
       "    Trying:\n",
       "        np.testing.assert_array_equal(groupStatistics(data, 'strawberry'), [7.0, 7.0, 2.0, 7.07])\n",
       "    Expecting nothing\n",
       "    **********************************************************************\n",
       "    Line 2, in q11 0\n",
       "    Failed example:\n",
       "        np.testing.assert_array_equal(groupStatistics(data, 'strawberry'), [7.0, 7.0, 2.0, 7.07])\n",
       "    Exception raised:\n",
       "        Traceback (most recent call last):\n",
       "          File \"/home/kipkoech/anaconda3/lib/python3.11/doctest.py\", line 1351, in __run\n",
       "            exec(compile(example.source, filename, \"single\",\n",
       "          File \"<doctest q11 0[1]>\", line 1, in <module>\n",
       "            np.testing.assert_array_equal(groupStatistics(data, 'strawberry'), [7.0, 7.0, 2.0, 7.07])\n",
       "                                          ^^^^^^^^^^^^^^^^^^^^^^^^^^^^^^^^^^^\n",
       "          File \"/tmp/ipykernel_18459/3330028132.py\", line 17, in groupStatistics\n",
       "            data[\"total_price\"] = data[\"scoops\"] * data[\"price\"]\n",
       "                                  ~~~~~~~~~~~~~~~^~~~~~~~~~~~~~~\n",
       "        TypeError: can't multiply sequence by non-int of type 'list'\n",
       "</pre><p><strong><pre style='display: inline;'>q11 - 2</pre> result:</strong></p><pre>    ❌ Test case failed\n",
       "    Trying:\n",
       "        points: 1\n",
       "    Expecting nothing\n",
       "    ok\n",
       "    Trying:\n",
       "        np.testing.assert_array_equal(groupStatistics(data, 'dark chocolate'), [10.0, 9.0, 6.0, 4.58])\n",
       "    Expecting nothing\n",
       "    **********************************************************************\n",
       "    Line 2, in q11 1\n",
       "    Failed example:\n",
       "        np.testing.assert_array_equal(groupStatistics(data, 'dark chocolate'), [10.0, 9.0, 6.0, 4.58])\n",
       "    Exception raised:\n",
       "        Traceback (most recent call last):\n",
       "          File \"/home/kipkoech/anaconda3/lib/python3.11/doctest.py\", line 1351, in __run\n",
       "            exec(compile(example.source, filename, \"single\",\n",
       "          File \"<doctest q11 1[1]>\", line 1, in <module>\n",
       "            np.testing.assert_array_equal(groupStatistics(data, 'dark chocolate'), [10.0, 9.0, 6.0, 4.58])\n",
       "                                          ^^^^^^^^^^^^^^^^^^^^^^^^^^^^^^^^^^^^^^^\n",
       "          File \"/tmp/ipykernel_18459/3330028132.py\", line 17, in groupStatistics\n",
       "            data[\"total_price\"] = data[\"scoops\"] * data[\"price\"]\n",
       "                                  ~~~~~~~~~~~~~~~^~~~~~~~~~~~~~~\n",
       "        TypeError: can't multiply sequence by non-int of type 'list'\n",
       "</pre><p><strong><pre style='display: inline;'>q11 - 3</pre> result:</strong></p><pre>    ❌ Test case failed\n",
       "    Trying:\n",
       "        points: 1\n",
       "    Expecting nothing\n",
       "    ok\n",
       "    Trying:\n",
       "        np.testing.assert_array_equal(groupStatistics(data, 'white chocolate'), [4.0, 4.0, 2.0, 2.0])\n",
       "    Expecting nothing\n",
       "    **********************************************************************\n",
       "    Line 2, in q11 2\n",
       "    Failed example:\n",
       "        np.testing.assert_array_equal(groupStatistics(data, 'white chocolate'), [4.0, 4.0, 2.0, 2.0])\n",
       "    Exception raised:\n",
       "        Traceback (most recent call last):\n",
       "          File \"/home/kipkoech/anaconda3/lib/python3.11/doctest.py\", line 1351, in __run\n",
       "            exec(compile(example.source, filename, \"single\",\n",
       "          File \"<doctest q11 2[1]>\", line 1, in <module>\n",
       "            np.testing.assert_array_equal(groupStatistics(data, 'white chocolate'), [4.0, 4.0, 2.0, 2.0])\n",
       "                                          ^^^^^^^^^^^^^^^^^^^^^^^^^^^^^^^^^^^^^^^^\n",
       "          File \"/tmp/ipykernel_18459/3330028132.py\", line 17, in groupStatistics\n",
       "            data[\"total_price\"] = data[\"scoops\"] * data[\"price\"]\n",
       "                                  ~~~~~~~~~~~~~~~^~~~~~~~~~~~~~~\n",
       "        TypeError: can't multiply sequence by non-int of type 'list'\n",
       "</pre><p><strong><pre style='display: inline;'>q11 - 4</pre> result:</strong></p><pre>    ❌ Test case failed\n",
       "    Trying:\n",
       "        points: 1\n",
       "    Expecting nothing\n",
       "    ok\n",
       "    Trying:\n",
       "        np.testing.assert_array_equal(groupStatistics(data, 'vanilla'), [2.75, 2.75, 1.5, 1.77])\n",
       "    Expecting nothing\n",
       "    **********************************************************************\n",
       "    Line 2, in q11 3\n",
       "    Failed example:\n",
       "        np.testing.assert_array_equal(groupStatistics(data, 'vanilla'), [2.75, 2.75, 1.5, 1.77])\n",
       "    Exception raised:\n",
       "        Traceback (most recent call last):\n",
       "          File \"/home/kipkoech/anaconda3/lib/python3.11/doctest.py\", line 1351, in __run\n",
       "            exec(compile(example.source, filename, \"single\",\n",
       "          File \"<doctest q11 3[1]>\", line 1, in <module>\n",
       "            np.testing.assert_array_equal(groupStatistics(data, 'vanilla'), [2.75, 2.75, 1.5, 1.77])\n",
       "                                          ^^^^^^^^^^^^^^^^^^^^^^^^^^^^^^^^\n",
       "          File \"/tmp/ipykernel_18459/3330028132.py\", line 17, in groupStatistics\n",
       "            data[\"total_price\"] = data[\"scoops\"] * data[\"price\"]\n",
       "                                  ~~~~~~~~~~~~~~~^~~~~~~~~~~~~~~\n",
       "        TypeError: can't multiply sequence by non-int of type 'list'\n",
       "</pre><p><strong><pre style='display: inline;'>q11 - 5</pre> result:</strong></p><pre>    ❌ Test case failed\n",
       "    Trying:\n",
       "        points: 1\n",
       "    Expecting nothing\n",
       "    ok\n",
       "    Trying:\n",
       "        np.testing.assert_array_equal(groupStatistics(data, 'mint'), [7.0, 7.0, 4.0, 4.24])\n",
       "    Expecting nothing\n",
       "    **********************************************************************\n",
       "    Line 2, in q11 4\n",
       "    Failed example:\n",
       "        np.testing.assert_array_equal(groupStatistics(data, 'mint'), [7.0, 7.0, 4.0, 4.24])\n",
       "    Exception raised:\n",
       "        Traceback (most recent call last):\n",
       "          File \"/home/kipkoech/anaconda3/lib/python3.11/doctest.py\", line 1351, in __run\n",
       "            exec(compile(example.source, filename, \"single\",\n",
       "          File \"<doctest q11 4[1]>\", line 1, in <module>\n",
       "            np.testing.assert_array_equal(groupStatistics(data, 'mint'), [7.0, 7.0, 4.0, 4.24])\n",
       "                                          ^^^^^^^^^^^^^^^^^^^^^^^^^^^^^\n",
       "          File \"/tmp/ipykernel_18459/3330028132.py\", line 17, in groupStatistics\n",
       "            data[\"total_price\"] = data[\"scoops\"] * data[\"price\"]\n",
       "                                  ~~~~~~~~~~~~~~~^~~~~~~~~~~~~~~\n",
       "        TypeError: can't multiply sequence by non-int of type 'list'\n",
       "</pre>"
      ],
      "text/plain": [
       "q11 results:\n",
       "    q11 - 1 result:\n",
       "        ❌ Test case failed\n",
       "        Trying:\n",
       "            points: 1\n",
       "        Expecting nothing\n",
       "        ok\n",
       "        Trying:\n",
       "            np.testing.assert_array_equal(groupStatistics(data, 'strawberry'), [7.0, 7.0, 2.0, 7.07])\n",
       "        Expecting nothing\n",
       "        **********************************************************************\n",
       "        Line 2, in q11 0\n",
       "        Failed example:\n",
       "            np.testing.assert_array_equal(groupStatistics(data, 'strawberry'), [7.0, 7.0, 2.0, 7.07])\n",
       "        Exception raised:\n",
       "            Traceback (most recent call last):\n",
       "              File \"/home/kipkoech/anaconda3/lib/python3.11/doctest.py\", line 1351, in __run\n",
       "                exec(compile(example.source, filename, \"single\",\n",
       "              File \"<doctest q11 0[1]>\", line 1, in <module>\n",
       "                np.testing.assert_array_equal(groupStatistics(data, 'strawberry'), [7.0, 7.0, 2.0, 7.07])\n",
       "                                              ^^^^^^^^^^^^^^^^^^^^^^^^^^^^^^^^^^^\n",
       "              File \"/tmp/ipykernel_18459/3330028132.py\", line 17, in groupStatistics\n",
       "                data[\"total_price\"] = data[\"scoops\"] * data[\"price\"]\n",
       "                                      ~~~~~~~~~~~~~~~^~~~~~~~~~~~~~~\n",
       "            TypeError: can't multiply sequence by non-int of type 'list'\n",
       "\n",
       "    q11 - 2 result:\n",
       "        ❌ Test case failed\n",
       "        Trying:\n",
       "            points: 1\n",
       "        Expecting nothing\n",
       "        ok\n",
       "        Trying:\n",
       "            np.testing.assert_array_equal(groupStatistics(data, 'dark chocolate'), [10.0, 9.0, 6.0, 4.58])\n",
       "        Expecting nothing\n",
       "        **********************************************************************\n",
       "        Line 2, in q11 1\n",
       "        Failed example:\n",
       "            np.testing.assert_array_equal(groupStatistics(data, 'dark chocolate'), [10.0, 9.0, 6.0, 4.58])\n",
       "        Exception raised:\n",
       "            Traceback (most recent call last):\n",
       "              File \"/home/kipkoech/anaconda3/lib/python3.11/doctest.py\", line 1351, in __run\n",
       "                exec(compile(example.source, filename, \"single\",\n",
       "              File \"<doctest q11 1[1]>\", line 1, in <module>\n",
       "                np.testing.assert_array_equal(groupStatistics(data, 'dark chocolate'), [10.0, 9.0, 6.0, 4.58])\n",
       "                                              ^^^^^^^^^^^^^^^^^^^^^^^^^^^^^^^^^^^^^^^\n",
       "              File \"/tmp/ipykernel_18459/3330028132.py\", line 17, in groupStatistics\n",
       "                data[\"total_price\"] = data[\"scoops\"] * data[\"price\"]\n",
       "                                      ~~~~~~~~~~~~~~~^~~~~~~~~~~~~~~\n",
       "            TypeError: can't multiply sequence by non-int of type 'list'\n",
       "\n",
       "    q11 - 3 result:\n",
       "        ❌ Test case failed\n",
       "        Trying:\n",
       "            points: 1\n",
       "        Expecting nothing\n",
       "        ok\n",
       "        Trying:\n",
       "            np.testing.assert_array_equal(groupStatistics(data, 'white chocolate'), [4.0, 4.0, 2.0, 2.0])\n",
       "        Expecting nothing\n",
       "        **********************************************************************\n",
       "        Line 2, in q11 2\n",
       "        Failed example:\n",
       "            np.testing.assert_array_equal(groupStatistics(data, 'white chocolate'), [4.0, 4.0, 2.0, 2.0])\n",
       "        Exception raised:\n",
       "            Traceback (most recent call last):\n",
       "              File \"/home/kipkoech/anaconda3/lib/python3.11/doctest.py\", line 1351, in __run\n",
       "                exec(compile(example.source, filename, \"single\",\n",
       "              File \"<doctest q11 2[1]>\", line 1, in <module>\n",
       "                np.testing.assert_array_equal(groupStatistics(data, 'white chocolate'), [4.0, 4.0, 2.0, 2.0])\n",
       "                                              ^^^^^^^^^^^^^^^^^^^^^^^^^^^^^^^^^^^^^^^^\n",
       "              File \"/tmp/ipykernel_18459/3330028132.py\", line 17, in groupStatistics\n",
       "                data[\"total_price\"] = data[\"scoops\"] * data[\"price\"]\n",
       "                                      ~~~~~~~~~~~~~~~^~~~~~~~~~~~~~~\n",
       "            TypeError: can't multiply sequence by non-int of type 'list'\n",
       "\n",
       "    q11 - 4 result:\n",
       "        ❌ Test case failed\n",
       "        Trying:\n",
       "            points: 1\n",
       "        Expecting nothing\n",
       "        ok\n",
       "        Trying:\n",
       "            np.testing.assert_array_equal(groupStatistics(data, 'vanilla'), [2.75, 2.75, 1.5, 1.77])\n",
       "        Expecting nothing\n",
       "        **********************************************************************\n",
       "        Line 2, in q11 3\n",
       "        Failed example:\n",
       "            np.testing.assert_array_equal(groupStatistics(data, 'vanilla'), [2.75, 2.75, 1.5, 1.77])\n",
       "        Exception raised:\n",
       "            Traceback (most recent call last):\n",
       "              File \"/home/kipkoech/anaconda3/lib/python3.11/doctest.py\", line 1351, in __run\n",
       "                exec(compile(example.source, filename, \"single\",\n",
       "              File \"<doctest q11 3[1]>\", line 1, in <module>\n",
       "                np.testing.assert_array_equal(groupStatistics(data, 'vanilla'), [2.75, 2.75, 1.5, 1.77])\n",
       "                                              ^^^^^^^^^^^^^^^^^^^^^^^^^^^^^^^^\n",
       "              File \"/tmp/ipykernel_18459/3330028132.py\", line 17, in groupStatistics\n",
       "                data[\"total_price\"] = data[\"scoops\"] * data[\"price\"]\n",
       "                                      ~~~~~~~~~~~~~~~^~~~~~~~~~~~~~~\n",
       "            TypeError: can't multiply sequence by non-int of type 'list'\n",
       "\n",
       "    q11 - 5 result:\n",
       "        ❌ Test case failed\n",
       "        Trying:\n",
       "            points: 1\n",
       "        Expecting nothing\n",
       "        ok\n",
       "        Trying:\n",
       "            np.testing.assert_array_equal(groupStatistics(data, 'mint'), [7.0, 7.0, 4.0, 4.24])\n",
       "        Expecting nothing\n",
       "        **********************************************************************\n",
       "        Line 2, in q11 4\n",
       "        Failed example:\n",
       "            np.testing.assert_array_equal(groupStatistics(data, 'mint'), [7.0, 7.0, 4.0, 4.24])\n",
       "        Exception raised:\n",
       "            Traceback (most recent call last):\n",
       "              File \"/home/kipkoech/anaconda3/lib/python3.11/doctest.py\", line 1351, in __run\n",
       "                exec(compile(example.source, filename, \"single\",\n",
       "              File \"<doctest q11 4[1]>\", line 1, in <module>\n",
       "                np.testing.assert_array_equal(groupStatistics(data, 'mint'), [7.0, 7.0, 4.0, 4.24])\n",
       "                                              ^^^^^^^^^^^^^^^^^^^^^^^^^^^^^\n",
       "              File \"/tmp/ipykernel_18459/3330028132.py\", line 17, in groupStatistics\n",
       "                data[\"total_price\"] = data[\"scoops\"] * data[\"price\"]\n",
       "                                      ~~~~~~~~~~~~~~~^~~~~~~~~~~~~~~\n",
       "            TypeError: can't multiply sequence by non-int of type 'list'"
      ]
     },
     "execution_count": 121,
     "metadata": {},
     "output_type": "execute_result"
    }
   ],
   "source": [
    "grader.check(\"q11\")"
   ]
  },
  {
   "cell_type": "markdown",
   "metadata": {
    "deletable": false,
    "editable": false
   },
   "source": [
    "## Submission\n",
    "\n",
    "Make sure you have run all cells in your notebook in order before running the cell below, so that all images/graphs appear in the output. The cell below will generate a zip file for you to submit. **Please save before exporting!**\n",
    "\n",
    "Download the exported ZIP. Take note of the ZIP number and proceed to fill the summer school form"
   ]
  },
  {
   "cell_type": "code",
   "execution_count": 122,
   "metadata": {
    "deletable": false,
    "editable": false
   },
   "outputs": [
    {
     "data": {
      "text/html": [
       "\n",
       "                    <p>\n",
       "                        Your submission has been exported. Click\n",
       "                        <a href=\"DSA2024Test_2024_02_21T01_21_22_603690.zip\" download=\"DSA2024Test_2024_02_21T01_21_22_603690.zip\" target=\"_blank\">here</a> to download\n",
       "                        the zip file.\n",
       "                    </p>\n",
       "                "
      ],
      "text/plain": [
       "<IPython.core.display.HTML object>"
      ]
     },
     "metadata": {},
     "output_type": "display_data"
    }
   ],
   "source": [
    "# Save your notebook first, then run this cell to export your submission.\n",
    "grader.export(pdf=False)"
   ]
  },
  {
   "cell_type": "markdown",
   "metadata": {},
   "source": [
    " "
   ]
  }
 ],
 "metadata": {
  "colab": {
   "provenance": []
  },
  "kernelspec": {
   "display_name": "Python 3 (ipykernel)",
   "language": "python",
   "name": "python3"
  },
  "language_info": {
   "codemirror_mode": {
    "name": "ipython",
    "version": 3
   },
   "file_extension": ".py",
   "mimetype": "text/x-python",
   "name": "python",
   "nbconvert_exporter": "python",
   "pygments_lexer": "ipython3",
   "version": "3.11.5"
  },
  "otter": {
   "OK_FORMAT": true,
   "tests": {
    "q1": {
     "name": "q1",
     "points": 4,
     "suites": [
      {
       "cases": [
        {
         "code": ">>> points: 1\n>>> \n>>> def test_isValid(isValid):\n...     assert isValid('{[()]}}') == False\n>>> test_isValid(isValid)\n",
         "hidden": false,
         "locked": false
        },
        {
         "code": ">>> points: 1\n>>> \n>>> def test_isValid(isValid):\n...     assert isValid('') == True\n>>> test_isValid(isValid)\n",
         "hidden": false,
         "locked": false
        },
        {
         "code": ">>> points: 1\n>>> \n>>> def test_isValid(isValid):\n...     assert isValid('(){}[]') == True\n>>> test_isValid(isValid)\n",
         "hidden": false,
         "locked": false
        }
       ],
       "scored": true,
       "setup": "",
       "teardown": "",
       "type": "doctest"
      }
     ]
    },
    "q11": {
     "name": "q11",
     "points": 5,
     "suites": [
      {
       "cases": [
        {
         "code": ">>> points: 1\n>>> np.testing.assert_array_equal(groupStatistics(data, 'strawberry'), [7.0, 7.0, 2.0, 7.07])\n",
         "hidden": false,
         "locked": false
        },
        {
         "code": ">>> points: 1\n>>> np.testing.assert_array_equal(groupStatistics(data, 'dark chocolate'), [10.0, 9.0, 6.0, 4.58])\n",
         "hidden": false,
         "locked": false
        },
        {
         "code": ">>> points: 1\n>>> np.testing.assert_array_equal(groupStatistics(data, 'white chocolate'), [4.0, 4.0, 2.0, 2.0])\n",
         "hidden": false,
         "locked": false
        },
        {
         "code": ">>> points: 1\n>>> np.testing.assert_array_equal(groupStatistics(data, 'vanilla'), [2.75, 2.75, 1.5, 1.77])\n",
         "hidden": false,
         "locked": false
        },
        {
         "code": ">>> points: 1\n>>> np.testing.assert_array_equal(groupStatistics(data, 'mint'), [7.0, 7.0, 4.0, 4.24])\n",
         "hidden": false,
         "locked": false
        }
       ],
       "scored": true,
       "setup": "",
       "teardown": "",
       "type": "doctest"
      }
     ]
    },
    "q2": {
     "name": "q2",
     "points": 4,
     "suites": [
      {
       "cases": [
        {
         "code": ">>> points: 1\n>>> \n>>> def test_oddFrequencyCounter(oddFrequencyCounter):\n...     paragraph = 'DSA 2024 Nyeri'\n...     assert oddFrequencyCounter(paragraph) == 10\n",
         "hidden": false,
         "locked": false
        },
        {
         "code": ">>> points: 1\n>>> \n>>> def test_oddFrequencyCounter(oddFrequencyCounter):\n...     paragraph = \"The following is sample text I used to practice special characters using keybr.com: 112233445566778899 Saturn V rocket's first stage carries 203,400 gallons (770,000 liters) of kerosene fuel and 318,000 gallons (1.2 million liters) of liquid oxygen needed for combustion. At liftoff, the stage's five F-1 rocket engines ignite and produce 7.5 million pounds of thrust. To replace those goofy quantities with the far less retarded metric system (even though liters are considered part of the metric system they are the same as cubic deci-meters) you would say 770 cubic meters of kerosene {abbreviated as m3} and 1,204 m3 of liquid O2 [O2 is the symbol for oxygen]. We would also say it produced 33,600,000 newtons of force <abbreviated as N>. To add scientific notation {a way of writing numbers that allows you to write only as many digits of specificity as you would like} you can write 7.7 * 10 ^ 2 m3 of kerosene 1.204 * 10 ^ 3 m3 of O2 and 3.3 * 10 ^ 7 newtons.\"\n...     assert oddFrequencyCounter(paragraph) == 40\n",
         "hidden": false,
         "locked": false
        },
        {
         "code": ">>> points: 1\n>>> \n>>> def test_oddFrequencyCounter(oddFrequencyCounter):\n...     paragraph = 'Data Science Africa in collaboration with The Swiss Federal Department of Foreign Affairs (FDFA), ETH Zurich, EPFL, the European Laboratory for Learning and Intelligent Systems (ELLIS), the Swiss National Computing Centre (CSCS), and the LUMI consortium launched the International Computation and AI Network (ICAIN) at the World Economic Forum (WEF) 2024 in Davos. Its mission is to develop AI technologies that benefit society as a whole, as well as being accessible to all and sustainable, thereby helping to reduce global inequality.'\n...     assert oddFrequencyCounter(paragraph) == 20\n",
         "hidden": false,
         "locked": false
        }
       ],
       "scored": true,
       "setup": "",
       "teardown": "",
       "type": "doctest"
      }
     ]
    },
    "q3": {
     "name": "q3",
     "points": 4,
     "suites": [
      {
       "cases": [
        {
         "code": ">>> points: 4\n>>> theGen = odd_squares_sum(12)\n>>> assert next(theGen) == 1\n>>> assert next(theGen) == 9\n>>> assert next(theGen) == 25\n>>> assert next(theGen) == 49\n>>> assert next(theGen) == 81\n>>> assert next(theGen) == 121\n>>> del theGen\n",
         "hidden": false,
         "locked": false
        }
       ],
       "scored": true,
       "setup": "",
       "teardown": "",
       "type": "doctest"
      }
     ]
    },
    "q4": {
     "name": "q4",
     "points": 4,
     "suites": [
      {
       "cases": [
        {
         "code": ">>> points: 2\n>>> assert (oddSumList == np.array([1, 9, 25, 49, 81, 121, 169, 225, 289, 361])).all()\n",
         "hidden": false,
         "locked": false
        },
        {
         "code": ">>> points: 2\n>>> assert isinstance(oddSumList, np.ndarray)\n",
         "hidden": false,
         "locked": false
        }
       ],
       "scored": true,
       "setup": "",
       "teardown": "",
       "type": "doctest"
      }
     ]
    },
    "q5": {
     "name": "q5",
     "points": 2,
     "suites": [
      {
       "cases": [
        {
         "code": ">>> points: 2\n>>> assert mergedList == [(1, 1), (4, 9), (0, 25), (4, 49), (1, 81), (1, 121), (4, 169), (0, 225), (4, 289), (1, 361)]\n",
         "hidden": false,
         "locked": false
        }
       ],
       "scored": true,
       "setup": "",
       "teardown": "",
       "type": "doctest"
      }
     ]
    },
    "q6": {
     "name": "q6",
     "points": 5,
     "suites": [
      {
       "cases": [
        {
         "code": ">>> points: 1\n>>> np.testing.assert_equal(greatest_common_divisor(10, 15), 5)\n",
         "hidden": false,
         "locked": false
        },
        {
         "code": ">>> points: 1\n>>> np.testing.assert_equal(greatest_common_divisor(15, 19), 1)\n",
         "hidden": false,
         "locked": false
        },
        {
         "code": ">>> points: 1\n>>> np.testing.assert_equal(greatest_common_divisor(100, 105), 5)\n",
         "hidden": false,
         "locked": false
        }
       ],
       "scored": true,
       "setup": "",
       "teardown": "",
       "type": "doctest"
      }
     ]
    },
    "q7": {
     "name": "q7",
     "points": 8,
     "suites": [
      {
       "cases": [
        {
         "code": ">>> points: 2\n>>> np.testing.assert_equal(get_3_nearest((3, 8), [(9, 3), (8, 5), (7, 6)]), [(7, 6), (8, 5), (9, 3)])\n",
         "hidden": false,
         "locked": false
        },
        {
         "code": ">>> points: 2\n>>> np.testing.assert_equal(get_3_nearest((12, 8), [(5, 9), (9, 1), (2, 4), (13, 9), (10, 12)]), [(13, 9), (10, 12), (5, 9)])\n",
         "hidden": false,
         "locked": false
        },
        {
         "code": ">>> points: 2\n>>> np.testing.assert_equal(get_3_nearest((5, 8), [(5, 9), (9, 1), (2, 4), (13, 9), (10, 12)]), [(5, 9), (2, 4), (13, 9)])\n",
         "hidden": false,
         "locked": false
        }
       ],
       "scored": true,
       "setup": "",
       "teardown": "",
       "type": "doctest"
      }
     ]
    },
    "q8": {
     "name": "q8",
     "points": 4,
     "suites": [
      {
       "cases": [
        {
         "code": ">>> points: 2\n>>> np.testing.assert_array_equal(diagonal_vector([[1, 2, 3, 4, 5, 6, 7, 8], [9, 10, 11, 12, 13, 14, 15, 16], [17, 18, 19, 20, 21, 22, 23, 24], [25, 26, 27, 28, 29, 30, 31, 32], [33, 34, 35, 36, 37, 38, 39, 40], [41, 42, 43, 44, 45, 46, 47, 48], [49, 50, 51, 52, 53, 54, 55, 56], [57, 58, 59, 60, 61, 62, 63, 64]]), [1, 10, 19, 28, 37, 46, 55, 64])\n",
         "hidden": false,
         "locked": false
        },
        {
         "code": ">>> points: 2\n>>> assert isinstance(diagonal_vector([[1, 2], [3, 4]]), np.ndarray)\n",
         "hidden": false,
         "locked": false
        }
       ],
       "scored": true,
       "setup": "",
       "teardown": "",
       "type": "doctest"
      }
     ]
    },
    "q9": {
     "name": "q9",
     "points": 3,
     "suites": [
      {
       "cases": [
        {
         "code": ">>> points: 1\n>>> np.testing.assert_equal(flatten_reverse_lists([[2, 13, 44], [6, 7]]), [44, 13, 7, 6, 2])\n",
         "hidden": false,
         "locked": false
        },
        {
         "code": ">>> points: 1\n>>> np.testing.assert_equal(flatten_reverse_lists([[2], [61, 34, 5, 8, 9]]), [61, 34, 9, 8, 5, 2])\n",
         "hidden": false,
         "locked": false
        }
       ],
       "scored": true,
       "setup": "",
       "teardown": "",
       "type": "doctest"
      }
     ]
    }
   }
  },
  "varInspector": {
   "cols": {
    "lenName": 16,
    "lenType": 16,
    "lenVar": 40
   },
   "kernels_config": {
    "python": {
     "delete_cmd_postfix": "",
     "delete_cmd_prefix": "del ",
     "library": "var_list.py",
     "varRefreshCmd": "print(var_dic_list())"
    },
    "r": {
     "delete_cmd_postfix": ") ",
     "delete_cmd_prefix": "rm(",
     "library": "var_list.r",
     "varRefreshCmd": "cat(var_dic_list()) "
    }
   },
   "types_to_exclude": [
    "module",
    "function",
    "builtin_function_or_method",
    "instance",
    "_Feature"
   ],
   "window_display": false
  }
 },
 "nbformat": 4,
 "nbformat_minor": 4
}
